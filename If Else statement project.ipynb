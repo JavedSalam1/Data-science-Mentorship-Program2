{
 "cells": [
  {
   "cell_type": "markdown",
   "metadata": {},
   "source": [
    "IF else statement"
   ]
  },
  {
   "cell_type": "code",
   "execution_count": 2,
   "metadata": {},
   "outputs": [
    {
     "name": "stdout",
     "output_type": "stream",
     "text": [
      "4\n",
      "12\n",
      "2.5\n",
      "2\n",
      "3\n",
      "25\n"
     ]
    }
   ],
   "source": [
    "#Arithmatic operators\n",
    "print(2+2)\n",
    "print(3*4)\n",
    "print(5/2)\n",
    "print(5//2)\n",
    "print(5-2)\n",
    "print(5**2)\n",
    "\n"
   ]
  },
  {
   "cell_type": "code",
   "execution_count": 4,
   "metadata": {},
   "outputs": [
    {
     "name": "stdout",
     "output_type": "stream",
     "text": [
      "True\n",
      "True\n",
      "True\n",
      "True\n",
      "True\n"
     ]
    }
   ],
   "source": [
    "#Relational operators(shows relation)\n",
    "print(4>3)\n",
    "print(5<6)\n",
    "print(5>=3)\n",
    "print(4<=6)\n",
    "print(4!=3)"
   ]
  },
  {
   "cell_type": "code",
   "execution_count": 9,
   "metadata": {},
   "outputs": [
    {
     "name": "stdout",
     "output_type": "stream",
     "text": [
      "0\n",
      "1\n",
      "False\n"
     ]
    }
   ],
   "source": [
    "#logiicial operatpors\n",
    "print(1 and 0)\n",
    "print(0 or 1)\n",
    "print(not 1)"
   ]
  },
  {
   "cell_type": "code",
   "execution_count": 15,
   "metadata": {},
   "outputs": [
    {
     "name": "stdout",
     "output_type": "stream",
     "text": [
      "True\n",
      "False\n"
     ]
    }
   ],
   "source": [
    "#membershipoperators\n",
    "#in these we use in and not in operators\n",
    "print('d' in 'dehli')\n",
    "print(1 not in [1,2,3,4])"
   ]
  },
  {
   "cell_type": "code",
   "execution_count": 22,
   "metadata": {},
   "outputs": [
    {
     "name": "stdout",
     "output_type": "stream",
     "text": [
      "12\n"
     ]
    }
   ],
   "source": [
    "#find the sum of three digit numbers enter by the user\n",
    "numbers=int(input('enter the three digit number'))\n",
    "a= numbers%10\n",
    "numbers= numbers//10\n",
    "b= numbers%10\n",
    "numbers=numbers//10\n",
    "c= numbers%10\n",
    "print(a+b+c)"
   ]
  },
  {
   "cell_type": "markdown",
   "metadata": {},
   "source": [
    "# login program and indentation\n",
    "# email -> nitish.campusx@gmail.com\n",
    "# password -> 1234"
   ]
  },
  {
   "cell_type": "code",
   "execution_count": 35,
   "metadata": {},
   "outputs": [
    {
     "name": "stdout",
     "output_type": "stream",
     "text": [
      "mail is incorrect\n"
     ]
    }
   ],
   "source": [
    "\n",
    "email=input('enter ur mail')\n",
    "pasword=input('enter ur pasword')\n",
    "if email== 'nitish.campusx@gmail.com' and pasword== '1234':\n",
    "    print('welcome')\n",
    "    \n",
    "elif email== 'nitish.campusx@gmail.com' and pasword!= '1234':\n",
    "    print('pasword is incorrect')\n",
    "    pasword= input('enter ur paswords again')\n",
    "    if pasword=='1234':\n",
    "      print('finaly yad aya bgrt')\n",
    "    else:\n",
    "        print('beta chuti kr')\n",
    "elif email!= 'nitish.campusx@gmail.com' and pasword== '1234':\n",
    "    print('mail is incorrect')\n",
    "    email= input('enter ur mail again')\n",
    "    if pasword=='nitish.campusx@gmail.com':\n",
    "     print('finaly yad aya bgrt')\n",
    "    \n",
    "else:\n",
    "    print('both incorrect')\n",
    "\n",
    "\n",
    "    \n",
    "\n"
   ]
  },
  {
   "cell_type": "markdown",
   "metadata": {},
   "source": [
    "# if-else examples\n",
    "# 1. Find the min of 3 given numbers\n",
    "# 2. Menu Driven Program"
   ]
  },
  {
   "cell_type": "code",
   "execution_count": 26,
   "metadata": {},
   "outputs": [
    {
     "name": "stdout",
     "output_type": "stream",
     "text": [
      "the smallest number is a\n"
     ]
    }
   ],
   "source": [
    "\n",
    "a=input('enter the 1 number')\n",
    "b=input('enter the 2 number')\n",
    "c=input('enter the 3 number')\n",
    "if a<b and a<c:\n",
    "    print('the smallest number is a')\n",
    "elif b<c:\n",
    "    print('smallest number is b')\n",
    "else:\n",
    "    print('c is smallest')"
   ]
  },
  {
   "cell_type": "markdown",
   "metadata": {},
   "source": [
    "#menu_driven_calculator"
   ]
  },
  {
   "cell_type": "code",
   "execution_count": 41,
   "metadata": {},
   "outputs": [
    {
     "name": "stdout",
     "output_type": "stream",
     "text": [
      "24\n"
     ]
    }
   ],
   "source": [
    "fnum=int(input('enter the first number'))\n",
    "snum=int(input('enter the second number'))\n",
    "op=input('enter the arithmatic operators')\n",
    "if op=='+':\n",
    "    print(fnum+snum)\n",
    "elif op=='-':\n",
    "    print(fnum-snum)\n",
    "elif '*':\n",
    "    print(fnum*snum)\n",
    "elif '%':\n",
    "    print(fnum%snum)\n",
    "else :\n",
    "    print(fnum/snum)\n"
   ]
  },
  {
   "cell_type": "markdown",
   "metadata": {},
   "source": [
    "#menu_driven_Calculator"
   ]
  },
  {
   "cell_type": "code",
   "execution_count": 1,
   "metadata": {},
   "outputs": [
    {
     "name": "stdout",
     "output_type": "stream",
     "text": [
      "exit\n"
     ]
    }
   ],
   "source": [
    "# menu driven calculator\n",
    "menu = input(\"\"\"\n",
    "Hi! how can I help you.\n",
    "1. Enter 1 for pin change\n",
    "2. Enter 2 for balance check\n",
    "3. Enter 3 for withdrawl\n",
    "4. Enter 4 for exit\n",
    "\"\"\")\n",
    "if menu=='1':\n",
    "    print('you can chamge ur pin')\n",
    "elif menu=='2':\n",
    "    print('ur balance is in pkr')\n",
    "elif menu=='3':\n",
    "    print('u can withdraw ur balance in pkr')\n",
    "else:\n",
    "    print('exit')"
   ]
  },
  {
   "cell_type": "markdown",
   "metadata": {},
   "source": []
  },
  {
   "cell_type": "markdown",
   "metadata": {},
   "source": [
    "Modules in Python\n",
    "math\n",
    "keywords\n",
    "random\n",
    "datetime"
   ]
  },
  {
   "cell_type": "markdown",
   "metadata": {},
   "source": [
    "#Math"
   ]
  },
  {
   "cell_type": "code",
   "execution_count": 2,
   "metadata": {},
   "outputs": [
    {
     "data": {
      "text/plain": [
       "14.0"
      ]
     },
     "execution_count": 2,
     "metadata": {},
     "output_type": "execute_result"
    }
   ],
   "source": [
    "# math\n",
    "import math\n",
    "\n",
    "math.sqrt(196)"
   ]
  },
  {
   "cell_type": "code",
   "execution_count": 3,
   "metadata": {},
   "outputs": [
    {
     "name": "stdout",
     "output_type": "stream",
     "text": [
      "['False', 'None', 'True', 'and', 'as', 'assert', 'async', 'await', 'break', 'class', 'continue', 'def', 'del', 'elif', 'else', 'except', 'finally', 'for', 'from', 'global', 'if', 'import', 'in', 'is', 'lambda', 'nonlocal', 'not', 'or', 'pass', 'raise', 'return', 'try', 'while', 'with', 'yield']\n"
     ]
    }
   ],
   "source": [
    "# keyword\n",
    "import keyword\n",
    "print(keyword.kwlist)"
   ]
  },
  {
   "cell_type": "code",
   "execution_count": 5,
   "metadata": {},
   "outputs": [
    {
     "name": "stdout",
     "output_type": "stream",
     "text": [
      "75\n"
     ]
    }
   ],
   "source": [
    "# random\n",
    "import random\n",
    "print(random.randint(1,100))"
   ]
  },
  {
   "cell_type": "code",
   "execution_count": 6,
   "metadata": {},
   "outputs": [
    {
     "name": "stdout",
     "output_type": "stream",
     "text": [
      "2025-01-01 23:24:17.669591\n"
     ]
    }
   ],
   "source": [
    "# datetime\n",
    "import datetime\n",
    "print(datetime.datetime.now())"
   ]
  },
  {
   "cell_type": "code",
   "execution_count": 7,
   "metadata": {},
   "outputs": [
    {
     "name": "stdout",
     "output_type": "stream",
     "text": [
      "\n",
      "Please wait a moment while I gather a list of all available modules...\n",
      "\n",
      "test_sqlite3: testing with SQLite version 3.43.1\n"
     ]
    },
    {
     "name": "stderr",
     "output_type": "stream",
     "text": [
      "c:\\Users\\User\\AppData\\Local\\Programs\\Python\\Python312\\Lib\\pkgutil.py:78: UserWarning: The numpy.array_api submodule is still experimental. See NEP 47.\n",
      "  __import__(info.name)\n"
     ]
    },
    {
     "name": "stdout",
     "output_type": "stream",
     "text": [
      "IPython             asttokens           matplotlib          sys\n",
      "PIL                 asyncio             matplotlib_inline   sysconfig\n",
      "__future__          atexit              mimetypes           tabnanny\n",
      "__hello__           audioop             mmap                tarfile\n",
      "__phello__          base64              mmapfile            telnetlib\n",
      "_abc                bdb                 mmsystem            tempfile\n",
      "_aix_support        binascii            modulefinder        test\n",
      "_ast                bisect              mpl_toolkits        textwrap\n",
      "_asyncio            builtins            msilib              this\n",
      "_bisect             bz2                 msvcrt              threading\n",
      "_blake2             cProfile            multiprocessing     time\n",
      "_bz2                calendar            nest_asyncio        timeit\n",
      "_codecs             cgi                 netbios             timer\n",
      "_codecs_cn          cgitb               netrc               tkinter\n",
      "_codecs_hk          chunk               nntplib             token\n",
      "_codecs_iso2022     cmath               nt                  tokenize\n",
      "_codecs_jp          cmd                 ntpath              tomllib\n",
      "_codecs_kr          code                ntsecuritycon       tornado\n",
      "_codecs_tw          codecs              nturl2path          trace\n",
      "_collections        codeop              numbers             traceback\n",
      "_collections_abc    collections         numpy               tracemalloc\n",
      "_compat_pickle      colorama            odbc                traitlets\n",
      "_compression        colorsys            opcode              tty\n",
      "_contextvars        comm                operator            turtle\n",
      "_csv                commctrl            optparse            turtledemo\n",
      "_ctypes             compileall          os                  types\n",
      "_ctypes_test        concurrent          packaging           typing\n",
      "_datetime           configparser        pandas              tzdata\n",
      "_decimal            contextlib          parso               unicodedata\n",
      "_elementtree        contextvars         pathlib             unittest\n",
      "_functools          contourpy           pdb                 urllib\n",
      "_hashlib            copy                perfmon             uu\n",
      "_heapq              copyreg             pickle              uuid\n",
      "_imp                crypt               pickletools         venv\n",
      "_io                 csv                 pipes               warnings\n",
      "_json               ctypes              pkgutil             wave\n",
      "_locale             curses              platform            wcwidth\n",
      "_lsprof             cycler              platformdirs        weakref\n",
      "_lzma               dataclasses         plistlib            webbrowser\n",
      "_markupbase         datetime            poplib              win2kras\n",
      "_md5                dateutil            posixpath           win32api\n",
      "_msi                dbi                 pprint              win32clipboard\n",
      "_multibytecodec     dbm                 profile             win32com\n",
      "_multiprocessing    dde                 prompt_toolkit      win32con\n",
      "_opcode             debugpy             pstats              win32console\n",
      "_operator           decimal             psutil              win32cred\n",
      "_osx_support        decorator           pty                 win32crypt\n",
      "_overlapped         difflib             pure_eval           win32cryptcon\n",
      "_pickle             dis                 py_compile          win32event\n",
      "_py_abc             doctest             pyclbr              win32evtlog\n",
      "_pydatetime         email               pydoc               win32evtlogutil\n",
      "_pydecimal          encodings           pydoc_data          win32file\n",
      "_pyio               ensurepip           pyexpat             win32gui\n",
      "_pylong             enum                pygments            win32gui_struct\n",
      "_queue              errno               pylab               win32help\n",
      "_random             executing           pyparsing           win32inet\n",
      "_sha1               faulthandler        pythoncom           win32inetcon\n",
      "_sha2               filecmp             pytz                win32job\n",
      "_sha3               fileinput           pywin               win32lz\n",
      "_signal             fnmatch             pywin32_bootstrap   win32net\n",
      "_sitebuiltins       fontTools           pywin32_testutil    win32netcon\n",
      "_socket             fractions           pywintypes          win32pdh\n",
      "_sqlite3            ftplib              queue               win32pdhquery\n",
      "_sre                functools           quopri              win32pdhutil\n",
      "_ssl                gc                  random              win32pipe\n",
      "_stat               genericpath         rasutil             win32print\n",
      "_statistics         getopt              re                  win32process\n",
      "_string             getpass             regcheck            win32profile\n",
      "_strptime           gettext             regutil             win32ras\n",
      "_struct             glob                reprlib             win32rcparser\n",
      "_symtable           graphlib            rlcompleter         win32security\n",
      "_testbuffer         gzip                runpy               win32service\n",
      "_testcapi           hashlib             sched               win32serviceutil\n",
      "_testclinic         heapq               secrets             win32timezone\n",
      "_testconsole        hmac                select              win32trace\n",
      "_testimportmultiple html                selectors           win32traceutil\n",
      "_testinternalcapi   http                servicemanager      win32transaction\n",
      "_testmultiphase     idlelib             shelve              win32ts\n",
      "_testsinglephase    imaplib             shlex               win32ui\n",
      "_thread             imghdr              shutil              win32uiole\n",
      "_threading_local    importlib           signal              win32verstamp\n",
      "_tkinter            inspect             site                win32wnet\n",
      "_tokenize           io                  six                 winerror\n",
      "_tracemalloc        ipaddress           smtplib             winioctlcon\n",
      "_typing             ipykernel           sndhdr              winnt\n",
      "_uuid               ipykernel_launcher  socket              winperf\n",
      "_warnings           isapi               socketserver        winreg\n",
      "_weakref            itertools           sqlite3             winsound\n",
      "_weakrefset         jedi                sre_compile         winxpgui\n",
      "_win32sysloader     json                sre_constants       winxptheme\n",
      "_winapi             jupyter             sre_parse           wsgiref\n",
      "_winxptheme         jupyter_client      ssl                 xdrlib\n",
      "_wmi                jupyter_core        sspi                xml\n",
      "_xxinterpchannels   keyword             sspicon             xmlrpc\n",
      "_xxsubinterpreters  kiwisolver          stack_data          xxsubtype\n",
      "_zoneinfo           lib2to3             start_pythonwin     zipapp\n",
      "abc                 linecache           stat                zipfile\n",
      "adodbapi            locale              statistics          zipimport\n",
      "afxres              logging             string              zlib\n",
      "aifc                lzma                stringprep          zmq\n",
      "antigravity         mailbox             struct              zoneinfo\n",
      "argparse            mailcap             subprocess          \n",
      "array               marshal             sunau               \n",
      "ast                 math                symtable            \n",
      "\n",
      "Enter any module name to get more help.  Or, type \"modules spam\" to search\n",
      "for modules whose name or summary contain the string \"spam\".\n",
      "\n"
     ]
    }
   ],
   "source": [
    "help(\"modules\")"
   ]
  },
  {
   "cell_type": "markdown",
   "metadata": {},
   "source": [
    "# While loop example -> program to print the table\n",
    "# Program -> Sum of all digits of a given number\n",
    "# Program -> keep accepting numbers from users till he/she enters a 0 and then find the avg"
   ]
  },
  {
   "cell_type": "code",
   "execution_count": 12,
   "metadata": {},
   "outputs": [],
   "source": [
    "number=int(input('enter the number'))\n",
    "i=11\n",
    "while i<11:\n",
    " print(number*i)\n",
    "i+=1\n"
   ]
  },
  {
   "cell_type": "code",
   "execution_count": 14,
   "metadata": {},
   "outputs": [
    {
     "name": "stdout",
     "output_type": "stream",
     "text": [
      "1\n",
      "2\n",
      "3\n",
      "limit cross\n"
     ]
    }
   ],
   "source": [
    "x=1\n",
    "while x<4:\n",
    "    print(x)\n",
    "    x+=1\n",
    "else:\n",
    "    print(\"limit cross\")"
   ]
  },
  {
   "cell_type": "markdown",
   "metadata": {},
   "source": [
    "# Guessing game\n",
    "\n",
    "# generate a random integer between 1 and 100"
   ]
  },
  {
   "cell_type": "code",
   "execution_count": 2,
   "metadata": {},
   "outputs": [
    {
     "name": "stdout",
     "output_type": "stream",
     "text": [
      "guess lower\n",
      "guess lower\n",
      "guess higher\n",
      "guess higher\n",
      "guess higher\n",
      "guess lower\n",
      "guess higher\n",
      "guess lower\n",
      "guess lower\n",
      "correct answer\n",
      "attempts 10\n"
     ]
    }
   ],
   "source": [
    "import random\n",
    "jackpot=random.randint(1,100)\n",
    "guess=int(input('enter the guess number'))\n",
    "counter=1\n",
    "while guess!=jackpot:\n",
    "    if guess<jackpot:\n",
    "      print('guess higher')\n",
    "    else:\n",
    "       print('guess lower')\n",
    "    \n",
    "    guess=int(input('enter the guess number'))\n",
    "    counter+=1\n",
    "else:\n",
    "    print('correct answer')\n",
    "    print(\"attempts\",counter)\n",
    "\n",
    "\n",
    "\n",
    "    "
   ]
  },
  {
   "cell_type": "code",
   "execution_count": null,
   "metadata": {},
   "outputs": [],
   "source": []
  }
 ],
 "metadata": {
  "kernelspec": {
   "display_name": "Python 3",
   "language": "python",
   "name": "python3"
  },
  "language_info": {
   "codemirror_mode": {
    "name": "ipython",
    "version": 3
   },
   "file_extension": ".py",
   "mimetype": "text/x-python",
   "name": "python",
   "nbconvert_exporter": "python",
   "pygments_lexer": "ipython3",
   "version": "3.12.2"
  }
 },
 "nbformat": 4,
 "nbformat_minor": 2
}
